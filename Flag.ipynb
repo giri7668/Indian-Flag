{
 "cells": [
  {
   "cell_type": "code",
   "execution_count": 8,
   "id": "faa3b88a",
   "metadata": {},
   "outputs": [
    {
     "data": {
      "image/png": "[encoded data removed]",
      "text/plain": [
       "<Figure size 432x288 with 1 Axes>"
      ]
     },
     "metadata": {
      "needs_background": "light"
     },
     "output_type": "display_data"
    }
   ],
   "source": [
    "import numpy as np\n",
    "import matplotlib.pyplot as py\n",
    "import matplotlib.patches as patch\n",
    "\n",
    "#pattching the Tri-Color in National Flag\n",
    "a=patch.Rectangle((0,1), width=9, height=2, facecolor='#138808', edgecolor='grey')\n",
    "b=patch.Rectangle((0,3), width=9, height=2, facecolor='#ffffff', edgecolor='grey')\n",
    "c=patch.Rectangle((0,5), width=9, height=2, facecolor='#FF6103', edgecolor='grey')\n",
    "\n",
    "m,n=py.subplots()\n",
    "n.add_patch(a)\n",
    "n.add_patch(b)\n",
    "n.add_patch(c)\n",
    "\n",
    "#AshokChakra Circle\n",
    "radius=0.8\n",
    "py.plot(4.5,4, marker = 'o', markerfacecolor ='#000080', markersize =9.5)\n",
    "chakra = py.Circle((4.5, 4), radius, color='#000080', fill=False, linewidth=7)\n",
    "n.add_artist(chakra)\n",
    "\n",
    "#24 Spokes in Ashok Chakra\n",
    "for i in range(0,24):\n",
    "    p= 4.5 + radius/2 * np.cos(np.pi*i/9 + np.pi/48)\n",
    "    q= 4.5 + radius/2 * np.cos(np.pi*i/9 - np.pi/48)\n",
    "    r= 4 + radius/2 * np.sin(np.pi*i/9 + np.pi/48)\n",
    "    s= 4 + radius/2 * np.sin(np.pi*i/9 - np.pi/48)\n",
    "    t= 4.5 + radius *np.cos(np.pi*i/9)\n",
    "    u= 4 + radius *np.sin(np.pi*i/9)\n",
    "    n.add_patch(patch.Polygon([[4.5,4],[p,r],[t,u],[q,s]], fill=True, closed=True, color='#000080'))\n",
    "py.axis('equal')\n",
    "py.show()\n",
    "    \n",
    "    "
   ]
  },
  {
   "cell_type": "code",
   "execution_count": null,
   "id": "e6121336",
   "metadata": {},
   "outputs": [],
   "source": []
  }
 ],
 "metadata": {
  "kernelspec": {
   "display_name": "Python 3 (ipykernel)",
   "language": "python",
   "name": "python3"
  },
  "language_info": {
   "codemirror_mode": {
    "name": "ipython",
    "version": 3
   },
   "file_extension": ".py",
   "mimetype": "text/x-python",
   "name": "python",
   "nbconvert_exporter": "python",
   "pygments_lexer": "ipython3",
   "version": "3.9.12"
  }
 },
 "nbformat": 4,
 "nbformat_minor": 5
}
